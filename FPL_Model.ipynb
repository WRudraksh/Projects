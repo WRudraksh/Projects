{
  "cells": [
    {
      "cell_type": "markdown",
      "metadata": {
        "id": "view-in-github",
        "colab_type": "text"
      },
      "source": [
        "<a href=\"https://colab.research.google.com/github/WRudraksh/Projects/blob/main/FPL_Model.ipynb\" target=\"_parent\"><img src=\"https://colab.research.google.com/assets/colab-badge.svg\" alt=\"Open In Colab\"/></a>"
      ]
    },
    {
      "cell_type": "code",
      "execution_count": null,
      "metadata": {
        "colab": {
          "base_uri": "https://localhost:8080/"
        },
        "id": "-0co0hqTALB3",
        "outputId": "23e9fd46-8fb3-48c2-f93c-6aa9793b6a1c"
      },
      "outputs": [
        {
          "name": "stdout",
          "output_type": "stream",
          "text": [
            "   element        full_name   season  team position  total_points  \\\n",
            "0        1    Armando Broja  2022-23     6      FWD            21   \n",
            "1        2     Fabian Schär  2022-23    15      DEF           139   \n",
            "2        3      Jonny Evans  2022-23    10      DEF            20   \n",
            "3        4  Brennan Johnson  2022-23    16      FWD           122   \n",
            "4        5  Cheick Doucouré  2022-23     7      MID            74   \n",
            "\n",
            "   goals_scored  assists  clean_sheets  saves  ...  opponent_difficulty  \\\n",
            "0             1        1             1      0  ...                  0.0   \n",
            "1             1        3            15      0  ...                  0.0   \n",
            "2             0        0             2      0  ...                  0.0   \n",
            "3             8        5             7      0  ...                  0.0   \n",
            "4             0        3             7      0  ...                  0.0   \n",
            "\n",
            "   fantasy_points  avg_points_last_3  avg_goals_last_3  avg_assists_last_3  \\\n",
            "0             9.0           0.080925               1.0                 1.0   \n",
            "1            68.0           0.421965               1.0                 3.0   \n",
            "2             9.0           0.080925               0.0                 0.0   \n",
            "3            39.0           0.254335               8.0                 5.0   \n",
            "4             7.0           0.069364               0.0                 3.0   \n",
            "\n",
            "   home_difficulty  position_encoded  team_encoded  form_variability  \\\n",
            "0              0.0               1.0          16.0               0.0   \n",
            "1              0.0               0.0           6.0               0.0   \n",
            "2              0.0               0.0           1.0               0.0   \n",
            "3              0.0               1.0           7.0               0.0   \n",
            "4              0.0               3.0          17.0               0.0   \n",
            "\n",
            "   current_team_encoded  \n",
            "0                   7.0  \n",
            "1                  14.0  \n",
            "2                  13.0  \n",
            "3                  17.0  \n",
            "4                   6.0  \n",
            "\n",
            "[5 rows x 35 columns]\n"
          ]
        }
      ],
      "source": [
        "import pandas as pd\n",
        "\n",
        "# Assuming you already have a DataFrame `df`\n",
        "df = pd.read_csv('final_output.csv')\n",
        "# Replace 'element' column with unique numeric IDs\n",
        "df[\"element\"] = range(1, len(df) + 1)  # Unique numbers starting from 1\n",
        "\n",
        "# Display the first few rows\n",
        "print(df.head())\n"
      ]
    },
    {
      "cell_type": "code",
      "execution_count": null,
      "metadata": {
        "id": "hPBfDjbxAeEN"
      },
      "outputs": [],
      "source": [
        "df_agg = df.groupby(\"full_name\").agg({\n",
        "    \"position_encoded\": \"first\",  # Keep first occurrence (position is constant)\n",
        "    \"team_encoded\": \"first\",  # Keep first occurrence (team is constant)\n",
        "    \"current_team_encoded\": \"first\",  # Keep current team (if available)\n",
        "    \"now_cost\": \"mean\",  # Average cost (or use max if needed)\n",
        "\n",
        "    # Performance Stats - Summing up\n",
        "    \"fantasy_points\": \"sum\",\n",
        "    \"total_points\": \"sum\",\n",
        "    \"goals_scored\": \"sum\",\n",
        "    \"assists\": \"sum\",\n",
        "    \"clean_sheets\": \"sum\",\n",
        "    \"saves\": \"sum\",\n",
        "    \"minutes\": \"sum\",\n",
        "    \"expected_goals\": \"sum\",\n",
        "    \"expected_assists\": \"sum\",\n",
        "    \"penalties_saved\": \"sum\",\n",
        "    \"penalties_missed\": \"sum\",\n",
        "\n",
        "    # Discipline Stats - Summing up\n",
        "    \"yellow_cards\": \"sum\",\n",
        "    \"red_cards\": \"sum\",\n",
        "    \"own_goals\": \"sum\",\n",
        "    \"bonus\": \"sum\",\n",
        "\n",
        "    # Recent Form - Taking Average\n",
        "    \"form\": \"mean\",\n",
        "    \"form_variability\": \"mean\",\n",
        "    \"avg_goals_last_3\": \"mean\",\n",
        "    \"avg_assists_last_3\": \"mean\",\n",
        "    \"avg_points_last_3\": \"mean\",\n",
        "\n",
        "    # Difficulty Metrics - Taking Average\n",
        "    \"opponent_difficulty\": \"mean\",\n",
        "    \"home_difficulty\": \"mean\",\n",
        "}).reset_index()\n"
      ]
    },
    {
      "cell_type": "code",
      "execution_count": null,
      "metadata": {
        "colab": {
          "base_uri": "https://localhost:8080/"
        },
        "id": "C_75m_WGAgpR",
        "outputId": "c86cd399-1e28-42dc-dfff-f7ed3a5de1ed"
      },
      "outputs": [
        {
          "name": "stdout",
          "output_type": "stream",
          "text": [
            "            full_name  position_encoded  team_encoded  current_team_encoded  \\\n",
            "0     Aaron Cresswell               0.0          10.0                  18.0   \n",
            "1        Aaron Hickey               0.0          14.0                   3.0   \n",
            "2      Aaron Ramsdale               2.0           0.0                  16.0   \n",
            "3   Aaron Wan-Bissaka               0.0           5.0                  18.0   \n",
            "4  Abdoulaye Doucouré               3.0          18.0                   7.0   \n",
            "\n",
            "   now_cost  fantasy_points  total_points  goals_scored  assists  \\\n",
            "0      39.0           754.0          2146             0       29   \n",
            "1      43.0           744.0          1953             0       93   \n",
            "2      44.0          2728.0          4433             0        0   \n",
            "3      46.0           928.0          1943             0        0   \n",
            "4      51.0           840.0          2280           150       60   \n",
            "\n",
            "   clean_sheets  ...  own_goals  bonus      form  form_variability  \\\n",
            "0           174  ...          0    232  0.141667               0.0   \n",
            "1           155  ...          0     62  0.350000               0.0   \n",
            "2           434  ...          0    279  0.400000               0.0   \n",
            "3           232  ...          0     87  0.216667               0.0   \n",
            "4           120  ...          0    300  0.516667               0.0   \n",
            "\n",
            "   avg_goals_last_3  avg_assists_last_3  avg_points_last_3  \\\n",
            "0               0.0                 1.0           0.179191   \n",
            "1               0.0                 3.0           0.167630   \n",
            "2               0.0                 0.0           0.537572   \n",
            "3               0.0                 0.0           0.213873   \n",
            "4               5.0                 2.0           0.190751   \n",
            "\n",
            "   opponent_difficulty  home_difficulty  element  \n",
            "0                  0.0              0.0        1  \n",
            "1                  0.0              0.0        2  \n",
            "2                  0.0              0.0        3  \n",
            "3                  0.0              0.0        4  \n",
            "4                  0.0              0.0        5  \n",
            "\n",
            "[5 rows x 28 columns]\n"
          ]
        }
      ],
      "source": [
        "import pandas as pd\n",
        "\n",
        "# Assuming you already have a DataFrame `df`\n",
        "\n",
        "# Replace 'element' column with unique numeric IDs\n",
        "df_agg[\"element\"] = range(1, len(df_agg) + 1)  # Unique numbers starting from 1\n",
        "\n",
        "# Display the first few rows\n",
        "print(df_agg.head())\n"
      ]
    },
    {
      "cell_type": "code",
      "execution_count": null,
      "metadata": {
        "colab": {
          "base_uri": "https://localhost:8080/"
        },
        "id": "FTSRJBViAj2q",
        "outputId": "93e798ca-9d18-42ff-8185-959406d8d2dd"
      },
      "outputs": [
        {
          "name": "stdout",
          "output_type": "stream",
          "text": [
            "Mean Absolute Error: 149.40038714408874\n"
          ]
        }
      ],
      "source": [
        "## import pandas as pd\n",
        "import numpy as np\n",
        "import xgboost as xgb\n",
        "from sklearn.model_selection import train_test_split\n",
        "from sklearn.metrics import mean_absolute_error\n",
        "\n",
        "# Load dataset\n",
        "df = df_agg  # Replace with actual dataset\n",
        "\n",
        "# Scale `now_cost`\n",
        "\n",
        "# Define features (X) & target (y)\n",
        "features = [\n",
        "    'minutes', 'goals_scored', 'assists', 'clean_sheets', 'saves',\n",
        "    'expected_goals', 'expected_assists', 'bonus', 'form',\n",
        "    'opponent_difficulty', 'home_difficulty', 'form_variability',\n",
        "    'position_encoded', 'team_encoded'\n",
        "]\n",
        "target = 'fantasy_points'\n",
        "\n",
        "# Train-test split\n",
        "X_train, X_test, y_train, y_test = train_test_split(df[features], df[target], test_size=0.2, random_state=42)\n",
        "\n",
        "# Train XGBoost model\n",
        "xgb_model = xgb.XGBRegressor(n_estimators=100, learning_rate=0.1, max_depth=5)\n",
        "xgb_model.fit(X_train, y_train)\n",
        "\n",
        "# Evaluate model\n",
        "y_pred = xgb_model.predict(X_test)\n",
        "print(f\"Mean Absolute Error: {mean_absolute_error(y_test, y_pred)}\")\n"
      ]
    },
    {
      "cell_type": "code",
      "execution_count": null,
      "metadata": {
        "colab": {
          "base_uri": "https://localhost:8080/"
        },
        "id": "k3pfx2c-Am87",
        "outputId": "6ae597a9-8142-4ed8-cfbd-bd4eb579f056"
      },
      "outputs": [
        {
          "name": "stdout",
          "output_type": "stream",
          "text": [
            "   position_encoded position\n",
            "0               0.0      DEF\n",
            "1               0.0      DEF\n",
            "2               2.0       GK\n",
            "3               0.0      DEF\n",
            "4               3.0      MID\n"
          ]
        }
      ],
      "source": [
        "# Define the correct mapping for position_encoded\n",
        "position_mapping = {0: \"DEF\", 1: \"FWD\", 2: \"GK\", 3: \"MID\"}\n",
        "\n",
        "# Create a new 'position' column based on 'position_encoded'\n",
        "df[\"position\"] = df[\"position_encoded\"].map(position_mapping)\n",
        "\n",
        "# Verify the mapping\n",
        "print(df[[\"position_encoded\", \"position\"]].head())\n"
      ]
    },
    {
      "cell_type": "code",
      "execution_count": null,
      "metadata": {
        "colab": {
          "base_uri": "https://localhost:8080/"
        },
        "id": "FPi2NDIjApBB",
        "outputId": "4f84d0a6-b22c-4d85-be15-9a48f98afce7"
      },
      "outputs": [
        {
          "name": "stdout",
          "output_type": "stream",
          "text": [
            "Enter the number of matches: 10\n",
            "Enter home team (encoded) for match 1: 0\n",
            "Enter away team (encoded) for match 1: 8\n",
            "Enter home team (encoded) for match 2: 19\n",
            "Enter away team (encoded) for match 2: 18\n",
            "Enter home team (encoded) for match 3: 15\n",
            "Enter away team (encoded) for match 3: 13\n",
            "Enter home team (encoded) for match 4: 2\n",
            "Enter away team (encoded) for match 4: 9\n",
            "Enter home team (encoded) for match 5: 4\n",
            "Enter away team (encoded) for match 5: 1\n",
            "Enter home team (encoded) for match 6: 12\n",
            "Enter away team (encoded) for match 6: 10\n",
            "Enter home team (encoded) for match 7: 16\n",
            "Enter away team (encoded) for match 7: 6\n",
            "Enter home team (encoded) for match 8: 14\n",
            "Enter away team (encoded) for match 8: 3\n",
            "Enter home team (encoded) for match 9: 5\n",
            "Enter away team (encoded) for match 9: 17\n",
            "Enter home team (encoded) for match 10: 11\n",
            "Enter away team (encoded) for match 10: 7\n",
            "\n",
            "🔹 Best FPL Team for Given Matches\n",
            "                    full_name  position_encoded  team_encoded  now_cost  \\\n",
            "205       José Malheiro de Sá               2.0          12.0      43.0   \n",
            "2              Aaron Ramsdale               2.0           0.0      44.0   \n",
            "38                    Ben Mee               0.0          14.0      42.0   \n",
            "228           Kieran Trippier               0.0           6.0      56.0   \n",
            "39             Benjamin White               0.0           0.0      61.0   \n",
            "362               Sven Botman               0.0           6.0      44.0   \n",
            "370          Timothy Castagne               0.0           1.0      42.0   \n",
            "266           Marcus Rashford               3.0           5.0      68.0   \n",
            "131  Gabriel Martinelli Silva               3.0           0.0      67.0   \n",
            "287     Miguel Almirón Rejala               3.0           6.0      55.0   \n",
            "239          Leandro Trossard               3.0           0.0      68.0   \n",
            "271           Martin Ødegaard               3.0           0.0      83.0   \n",
            "57              Callum Wilson               1.0           6.0      69.0   \n",
            "155                Ivan Toney               1.0          14.0      73.0   \n",
            "115            Erling Haaland               1.0           4.0     149.0   \n",
            "\n",
            "     fantasy_points  \n",
            "205          2700.0  \n",
            "2            2728.0  \n",
            "38           2232.0  \n",
            "228          2760.0  \n",
            "39           2604.0  \n",
            "362          1740.0  \n",
            "370          1650.0  \n",
            "266          3570.0  \n",
            "131          3450.0  \n",
            "287          2378.0  \n",
            "239          2728.0  \n",
            "271          3300.0  \n",
            "57           2552.0  \n",
            "155          2573.0  \n",
            "115          5040.0  \n",
            "\n",
            "💰 Total Budget Used: 964.0 / 1000 credits\n",
            "✅ Total Players Selected: 15 / 15\n"
          ]
        }
      ],
      "source": [
        "import pandas as pd\n",
        "\n",
        "def select_best_fpl_team(df, budget_limit=1000):\n",
        "    \"\"\"\n",
        "    Select the best 15 players for FPL based on fantasy points while staying within the budget.\n",
        "    Ensures a balanced squad with 2 GK, 5 DEF, 5 MID, and 3 FWD.\n",
        "    Uses a greedy knapsack-like approach with budget constraints.\n",
        "    \"\"\"\n",
        "    num_matches = int(input(\"Enter the number of matches: \"))\n",
        "    selected_fixtures = []\n",
        "\n",
        "    for i in range(1, num_matches + 1):\n",
        "        home_team = int(input(f\"Enter home team (encoded) for match {i}: \"))\n",
        "        away_team = int(input(f\"Enter away team (encoded) for match {i}: \"))\n",
        "        selected_fixtures.append(home_team)\n",
        "        selected_fixtures.append(away_team)\n",
        "\n",
        "    # Filter players from selected teams\n",
        "    filtered_df = df[df[\"team_encoded\"].isin(selected_fixtures)]\n",
        "\n",
        "    # Calculate efficiency (fantasy points per cost) and sort\n",
        "    filtered_df[\"efficiency\"] = filtered_df[\"fantasy_points\"] / filtered_df[\"now_cost\"]\n",
        "    filtered_df = filtered_df.sort_values(by=[\"efficiency\", \"fantasy_points\"], ascending=[False, False])\n",
        "\n",
        "    # Position-based squad requirements (GK=2, DEF=5, MID=5, FWD=3)\n",
        "    squad_requirements = {2: 2, 0: 5, 3: 5, 1: 3}  # GK: 2, DEF: 5, MID: 5, FWD: 3\n",
        "    selected_team = []\n",
        "    budget_used = 0\n",
        "\n",
        "    for position, count in squad_requirements.items():\n",
        "        position_players = filtered_df[filtered_df[\"position_encoded\"] == position]\n",
        "        selected_players = []\n",
        "\n",
        "        for _, player in position_players.iterrows():\n",
        "            if len(selected_players) < count and budget_used + player[\"now_cost\"] <= budget_limit:\n",
        "                selected_players.append(player)\n",
        "                budget_used += player[\"now_cost\"]\n",
        "            if len(selected_players) == count:\n",
        "                break  # Stop once we have the required players\n",
        "\n",
        "        selected_team.extend(selected_players)\n",
        "\n",
        "    # If fewer than 15 players are selected, add the best available players within budget\n",
        "    while len(selected_team) < 15:\n",
        "        remaining_budget = budget_limit - budget_used\n",
        "        available_players = filtered_df[~filtered_df[\"full_name\"].isin([p[\"full_name\"] for p in selected_team])]\n",
        "        available_players = available_players[available_players[\"now_cost\"] <= remaining_budget]\n",
        "\n",
        "        if not available_players.empty:\n",
        "            best_extra_player = available_players.iloc[0]  # Take the most efficient player within budget\n",
        "            selected_team.append(best_extra_player)\n",
        "            budget_used += best_extra_player[\"now_cost\"]\n",
        "        else:\n",
        "            break  # No more players can be added\n",
        "\n",
        "    # Convert to DataFrame\n",
        "    selected_team_df = pd.DataFrame(selected_team)\n",
        "\n",
        "    # Display output\n",
        "    print(\"\\n🔹 Best FPL Team for Given Matches\")\n",
        "    print(selected_team_df[[\"full_name\", \"position_encoded\", \"team_encoded\", \"now_cost\", \"fantasy_points\"]])\n",
        "    print(f\"\\n💰 Total Budget Used: {budget_used:.1f} / {budget_limit} credits\")\n",
        "    print(f\"✅ Total Players Selected: {len(selected_team_df)} / 15\")\n",
        "\n",
        "    return selected_team_df\n",
        "\n",
        "# Run function11117\n",
        "best_team = select_best_fpl_team(df)\n"
      ]
    },
    {
      "cell_type": "code",
      "execution_count": null,
      "metadata": {
        "colab": {
          "background_save": true,
          "base_uri": "https://localhost:8080/"
        },
        "id": "RbHJHm7vAus-",
        "outputId": "52215f4d-dbb9-4ac0-f9b8-76b7696fc5d3"
      },
      "outputs": [
        {
          "name": "stdout",
          "output_type": "stream",
          "text": [
            "Collecting streamlit\n",
            "  Downloading streamlit-1.43.2-py2.py3-none-any.whl.metadata (8.9 kB)\n",
            "Requirement already satisfied: altair<6,>=4.0 in /usr/local/lib/python3.11/dist-packages (from streamlit) (5.5.0)\n",
            "Requirement already satisfied: blinker<2,>=1.0.0 in /usr/local/lib/python3.11/dist-packages (from streamlit) (1.9.0)\n",
            "Requirement already satisfied: cachetools<6,>=4.0 in /usr/local/lib/python3.11/dist-packages (from streamlit) (5.5.2)\n",
            "Requirement already satisfied: click<9,>=7.0 in /usr/local/lib/python3.11/dist-packages (from streamlit) (8.1.8)\n",
            "Requirement already satisfied: numpy<3,>=1.23 in /usr/local/lib/python3.11/dist-packages (from streamlit) (2.0.2)\n",
            "Requirement already satisfied: packaging<25,>=20 in /usr/local/lib/python3.11/dist-packages (from streamlit) (24.2)\n",
            "Requirement already satisfied: pandas<3,>=1.4.0 in /usr/local/lib/python3.11/dist-packages (from streamlit) (2.2.2)\n",
            "Requirement already satisfied: pillow<12,>=7.1.0 in /usr/local/lib/python3.11/dist-packages (from streamlit) (11.1.0)\n",
            "Requirement already satisfied: protobuf<6,>=3.20 in /usr/local/lib/python3.11/dist-packages (from streamlit) (5.29.3)\n",
            "Requirement already satisfied: pyarrow>=7.0 in /usr/local/lib/python3.11/dist-packages (from streamlit) (18.1.0)\n",
            "Requirement already satisfied: requests<3,>=2.27 in /usr/local/lib/python3.11/dist-packages (from streamlit) (2.32.3)\n",
            "Requirement already satisfied: tenacity<10,>=8.1.0 in /usr/local/lib/python3.11/dist-packages (from streamlit) (9.0.0)\n",
            "Requirement already satisfied: toml<2,>=0.10.1 in /usr/local/lib/python3.11/dist-packages (from streamlit) (0.10.2)\n",
            "Requirement already satisfied: typing-extensions<5,>=4.4.0 in /usr/local/lib/python3.11/dist-packages (from streamlit) (4.12.2)\n",
            "Collecting watchdog<7,>=2.1.5 (from streamlit)\n",
            "  Downloading watchdog-6.0.0-py3-none-manylinux2014_x86_64.whl.metadata (44 kB)\n",
            "\u001b[2K     \u001b[90m━━━━━━━━━━━━━━━━━━━━━━━━━━━━━━━━━━━━━━━━\u001b[0m \u001b[32m44.3/44.3 kB\u001b[0m \u001b[31m2.7 MB/s\u001b[0m eta \u001b[36m0:00:00\u001b[0m\n",
            "\u001b[?25hRequirement already satisfied: gitpython!=3.1.19,<4,>=3.0.7 in /usr/local/lib/python3.11/dist-packages (from streamlit) (3.1.44)\n",
            "Collecting pydeck<1,>=0.8.0b4 (from streamlit)\n",
            "  Downloading pydeck-0.9.1-py2.py3-none-any.whl.metadata (4.1 kB)\n",
            "Requirement already satisfied: tornado<7,>=6.0.3 in /usr/local/lib/python3.11/dist-packages (from streamlit) (6.4.2)\n",
            "Requirement already satisfied: jinja2 in /usr/local/lib/python3.11/dist-packages (from altair<6,>=4.0->streamlit) (3.1.6)\n",
            "Requirement already satisfied: jsonschema>=3.0 in /usr/local/lib/python3.11/dist-packages (from altair<6,>=4.0->streamlit) (4.23.0)\n",
            "Requirement already satisfied: narwhals>=1.14.2 in /usr/local/lib/python3.11/dist-packages (from altair<6,>=4.0->streamlit) (1.31.0)\n",
            "Requirement already satisfied: gitdb<5,>=4.0.1 in /usr/local/lib/python3.11/dist-packages (from gitpython!=3.1.19,<4,>=3.0.7->streamlit) (4.0.12)\n",
            "Requirement already satisfied: python-dateutil>=2.8.2 in /usr/local/lib/python3.11/dist-packages (from pandas<3,>=1.4.0->streamlit) (2.8.2)\n",
            "Requirement already satisfied: pytz>=2020.1 in /usr/local/lib/python3.11/dist-packages (from pandas<3,>=1.4.0->streamlit) (2025.1)\n",
            "Requirement already satisfied: tzdata>=2022.7 in /usr/local/lib/python3.11/dist-packages (from pandas<3,>=1.4.0->streamlit) (2025.1)\n",
            "Requirement already satisfied: charset-normalizer<4,>=2 in /usr/local/lib/python3.11/dist-packages (from requests<3,>=2.27->streamlit) (3.4.1)\n",
            "Requirement already satisfied: idna<4,>=2.5 in /usr/local/lib/python3.11/dist-packages (from requests<3,>=2.27->streamlit) (3.10)\n",
            "Requirement already satisfied: urllib3<3,>=1.21.1 in /usr/local/lib/python3.11/dist-packages (from requests<3,>=2.27->streamlit) (2.3.0)\n",
            "Requirement already satisfied: certifi>=2017.4.17 in /usr/local/lib/python3.11/dist-packages (from requests<3,>=2.27->streamlit) (2025.1.31)\n",
            "Requirement already satisfied: smmap<6,>=3.0.1 in /usr/local/lib/python3.11/dist-packages (from gitdb<5,>=4.0.1->gitpython!=3.1.19,<4,>=3.0.7->streamlit) (5.0.2)\n",
            "Requirement already satisfied: MarkupSafe>=2.0 in /usr/local/lib/python3.11/dist-packages (from jinja2->altair<6,>=4.0->streamlit) (3.0.2)\n",
            "Requirement already satisfied: attrs>=22.2.0 in /usr/local/lib/python3.11/dist-packages (from jsonschema>=3.0->altair<6,>=4.0->streamlit) (25.3.0)\n",
            "Requirement already satisfied: jsonschema-specifications>=2023.03.6 in /usr/local/lib/python3.11/dist-packages (from jsonschema>=3.0->altair<6,>=4.0->streamlit) (2024.10.1)\n",
            "Requirement already satisfied: referencing>=0.28.4 in /usr/local/lib/python3.11/dist-packages (from jsonschema>=3.0->altair<6,>=4.0->streamlit) (0.36.2)\n",
            "Requirement already satisfied: rpds-py>=0.7.1 in /usr/local/lib/python3.11/dist-packages (from jsonschema>=3.0->altair<6,>=4.0->streamlit) (0.23.1)\n",
            "Requirement already satisfied: six>=1.5 in /usr/local/lib/python3.11/dist-packages (from python-dateutil>=2.8.2->pandas<3,>=1.4.0->streamlit) (1.17.0)\n",
            "Downloading streamlit-1.43.2-py2.py3-none-any.whl (9.7 MB)\n",
            "\u001b[2K   \u001b[90m━━━━━━━━━━━━━━━━━━━━━━━━━━━━━━━━━━━━━━━━\u001b[0m \u001b[32m9.7/9.7 MB\u001b[0m \u001b[31m55.3 MB/s\u001b[0m eta \u001b[36m0:00:00\u001b[0m\n",
            "\u001b[?25hDownloading pydeck-0.9.1-py2.py3-none-any.whl (6.9 MB)\n",
            "\u001b[2K   \u001b[90m━━━━━━━━━━━━━━━━━━━━━━━━━━━━━━━━━━━━━━━━\u001b[0m \u001b[32m6.9/6.9 MB\u001b[0m \u001b[31m71.5 MB/s\u001b[0m eta \u001b[36m0:00:00\u001b[0m\n",
            "\u001b[?25hDownloading watchdog-6.0.0-py3-none-manylinux2014_x86_64.whl (79 kB)\n",
            "\u001b[2K   \u001b[90m━━━━━━━━━━━━━━━━━━━━━━━━━━━━━━━━━━━━━━━━\u001b[0m \u001b[32m79.1/79.1 kB\u001b[0m \u001b[31m5.6 MB/s\u001b[0m eta \u001b[36m0:00:00\u001b[0m\n",
            "\u001b[?25hInstalling collected packages: watchdog, pydeck, streamlit\n",
            "Successfully installed pydeck-0.9.1 streamlit-1.43.2 watchdog-6.0.0\n",
            "Usage: streamlit run [OPTIONS] TARGET [ARGS]...\n",
            "Try 'streamlit run --help' for help.\n",
            "\n",
            "Error: Invalid value: File does not exist: app.py\n",
            "\u001b[1G\u001b[0K⠙\u001b[1G\u001b[0K⠹\u001b[1G\u001b[0K⠸\u001b[1G\u001b[0K⠼\u001b[1G\u001b[0K⠴\u001b[1G\u001b[0K\u001b[1G\u001b[0JNeed to install the following packages:\n",
            "localtunnel@2.0.2\n",
            "Ok to proceed? (y) \u001b[20G"
          ]
        }
      ],
      "source": [
        "!pip install streamlit\n",
        "!streamlit run app.py & npx localtunnel --port 8501\n"
      ]
    },
    {
      "cell_type": "code",
      "execution_count": null,
      "metadata": {
        "id": "wx38KAuCIAG5"
      },
      "outputs": [],
      "source": [
        "%%writefile app.py\n",
        "import streamlit as st\n",
        "import pandas as pd\n",
        "\n",
        "st.title(\"My Data Analysis App\")\n",
        "\n",
        "# Load your CSV\n",
        "df = pd.read_csv(\"final_output.csv\")\n",
        "st.write(df)\n"
      ]
    },
    {
      "cell_type": "code",
      "execution_count": null,
      "metadata": {
        "id": "OBQYjDfKJjPj"
      },
      "outputs": [],
      "source": []
    }
  ],
  "metadata": {
    "colab": {
      "provenance": [],
      "authorship_tag": "ABX9TyP2hXwMiCKibixmXVbiJpHV",
      "include_colab_link": true
    },
    "kernelspec": {
      "display_name": "Python 3",
      "name": "python3"
    },
    "language_info": {
      "name": "python"
    }
  },
  "nbformat": 4,
  "nbformat_minor": 0
}